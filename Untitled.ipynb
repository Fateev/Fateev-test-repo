{
 "cells": [
  {
   "cell_type": "code",
   "execution_count": 11,
   "metadata": {},
   "outputs": [
    {
     "name": "stdout",
     "output_type": "stream",
     "text": [
      "C\n",
      "1\n"
     ]
    }
   ],
   "source": [
    "genome = input()\n",
    "cnt = 0\n",
    "for nucl in genome:\n",
    "    if nucl == 'C':\n",
    "        cnt += 1\n",
    "print(cnt)"
   ]
  },
  {
   "cell_type": "code",
   "execution_count": 25,
   "metadata": {},
   "outputs": [
    {
     "name": "stdout",
     "output_type": "stream",
     "text": [
      "aaaabbcaa\n",
      "a 2\n",
      "a 3\n",
      "a 4\n",
      "b 1\n",
      "b 2\n",
      "c 1\n",
      "a 1\n",
      "a 2\n"
     ]
    }
   ],
   "source": [
    "a = \"aaaabbcaa\"\n",
    "print(a)\n",
    "b = len(a)\n",
    "sig_cnt = 0\n",
    "for i in range(b-1):\n",
    "    if a[i] == a[i+1]:\n",
    "        sig_cnt = sig_cnt + 1\n",
    "    else :\n",
    "        sig_cnt = 0\n",
    "    print(a[i+1] , sig_cnt+1)\n"
   ]
  },
  {
   "cell_type": "code",
   "execution_count": 56,
   "metadata": {},
   "outputs": [
    {
     "name": "stdout",
     "output_type": "stream",
     "text": [
      "a\n",
      "a1"
     ]
    }
   ],
   "source": [
    "a = input()\n",
    "b = len(a)\n",
    "sig_cnt = 0\n",
    "for i in range(b-1):\n",
    "    if a[i] == a[i+1]:\n",
    "        sig_cnt = sig_cnt + 1\n",
    "    else: \n",
    "        print(a[i] ,end='') \n",
    "        print(sig_cnt+1,end='')\n",
    "        sig_cnt = 0\n",
    "print(a[b-1] ,end='')\n",
    "print(sig_cnt+1,end='')"
   ]
  },
  {
   "cell_type": "code",
   "execution_count": 58,
   "metadata": {},
   "outputs": [
    {
     "data": {
      "text/plain": [
       "[20, 10, 3]"
      ]
     },
     "execution_count": 58,
     "metadata": {},
     "output_type": "execute_result"
    }
   ],
   "source": [
    "a = [1, 2, 3]\n",
    "b = a\n",
    "# значения списка b?\n",
    "b\n",
    "a[1] = 10\n",
    "# значения списка b?\n",
    "b\n",
    "b[0] = 20\n",
    "# значения списка a?\n",
    "a\n",
    "a = [5, 6]\n",
    "# значения списка b?\n",
    "b"
   ]
  },
  {
   "cell_type": "code",
   "execution_count": 65,
   "metadata": {},
   "outputs": [
    {
     "data": {
      "text/plain": [
       "[5, 6]"
      ]
     },
     "execution_count": 65,
     "metadata": {},
     "output_type": "execute_result"
    }
   ],
   "source": [
    "a = [1, 2, 3]\n",
    "b = a\n",
    "# значения списка b?\n",
    "b\n",
    "a[1] = 10\n",
    "b\n",
    "b[0] = 20\n",
    "a\n",
    "a = [5, 6]\n",
    "a"
   ]
  },
  {
   "cell_type": "code",
   "execution_count": 98,
   "metadata": {},
   "outputs": [
    {
     "name": "stdout",
     "output_type": "stream",
     "text": [
      "[10, 1, 3, 5, 6, 10]\n"
     ]
    }
   ],
   "source": [
    "students = [1, 3, 5, 6, 10]\n",
    "students.insert(0, 10)\n",
    "print(students)"
   ]
  },
  {
   "cell_type": "code",
   "execution_count": 103,
   "metadata": {},
   "outputs": [
    {
     "name": "stdout",
     "output_type": "stream",
     "text": [
      "1\n",
      "[1, 1, 1]\n"
     ]
    }
   ],
   "source": [
    "#1 3 5 6 10\n",
    "a = [int(i) for i in input().split()]\n",
    "b = len(a)\n",
    "a.insert(0, a[b-1])\n",
    "a.insert(b+1, a[1])\n",
    "print(a)"
   ]
  },
  {
   "cell_type": "code",
   "execution_count": 115,
   "metadata": {},
   "outputs": [
    {
     "name": "stdout",
     "output_type": "stream",
     "text": [
      "10\n",
      "10\n"
     ]
    }
   ],
   "source": [
    "#1 3 5 6 10\n",
    "a = [int(i) for i in input().split()]\n",
    "b = len(a)\n",
    "if b == 1 :\n",
    "    print(a[0])\n",
    "else :\n",
    "    a.insert(0, a[b-1])\n",
    "    a.insert(b+1, a[1])\n",
    "    for j in range(1, len(a)-1):\n",
    "        print(a[j-1] + a[j+1],end=' ')"
   ]
  },
  {
   "cell_type": "code",
   "execution_count": null,
   "metadata": {},
   "outputs": [],
   "source": [
    "a = [int(i) for i in input().split()]\n",
    "print(a)\n",
    "a.sort()\n",
    "print(a)"
   ]
  },
  {
   "cell_type": "code",
   "execution_count": null,
   "metadata": {},
   "outputs": [],
   "source": []
  }
 ],
 "metadata": {
  "kernelspec": {
   "display_name": "Python 3",
   "language": "python",
   "name": "python3"
  },
  "language_info": {
   "codemirror_mode": {
    "name": "ipython",
    "version": 3
   },
   "file_extension": ".py",
   "mimetype": "text/x-python",
   "name": "python",
   "nbconvert_exporter": "python",
   "pygments_lexer": "ipython3",
   "version": "3.6.5"
  }
 },
 "nbformat": 4,
 "nbformat_minor": 2
}
